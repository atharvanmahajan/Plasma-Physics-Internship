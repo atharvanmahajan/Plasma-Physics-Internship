{
 "cells": [
  {
   "cell_type": "code",
   "execution_count": 1,
   "metadata": {},
   "outputs": [],
   "source": [
    "import numpy as np\n",
    "import matplotlib.pyplot as plt\n",
    "import math"
   ]
  },
  {
   "cell_type": "markdown",
   "metadata": {},
   "source": [
    "We will be solving 2D constant velocity advection equation using non-interpolating semi-lagrange techniques with periodic boundary conditions."
   ]
  },
  {
   "cell_type": "code",
   "execution_count": 2,
   "metadata": {},
   "outputs": [],
   "source": [
    "# Parameters\n",
    "N = 101 # Number of grid points in each direction\n",
    "v = [1.65, 2.56] # Velocity in x and y directions\n",
    "dt = 1 # Time step size\n",
    "T = 1000 # Number of timesteps"
   ]
  },
  {
   "cell_type": "code",
   "execution_count": 3,
   "metadata": {},
   "outputs": [],
   "source": [
    "# grid to store states for each timestep\n",
    "grid = np.zeros((T, N, N))"
   ]
  },
  {
   "cell_type": "code",
   "execution_count": 4,
   "metadata": {},
   "outputs": [
    {
     "data": {
      "image/png": "[encoded data removed]",
      "text/plain": [
       "<Figure size 640x480 with 2 Axes>"
      ]
     },
     "metadata": {},
     "output_type": "display_data"
    }
   ],
   "source": [
    "# initial condtions\n",
    "x = np.linspace(-(N-1)//2, (N-1)//2, N)\n",
    "y = np.linspace(-(N-1)//2, (N-1)//2, N)\n",
    "x_grid, y_grid = np.meshgrid(x, y)\n",
    "\n",
    "grid[0, :, :] = np.exp(-((x_grid/10)**2 + (y_grid/10)**2))\n",
    "#grid[1, :, :] = np.exp((-((x-v_x*dt)/10)**2 - ((y-v_y*dt)/10)**2))\n",
    "\n",
    "cp = plt.contourf(grid[0, :, :])\n",
    "plt.colorbar(cp)\n",
    "plt.show()"
   ]
  },
  {
   "cell_type": "code",
   "execution_count": null,
   "metadata": {},
   "outputs": [],
   "source": [
    "# velocity interpolator\n",
    "def velocity_interp(timestep, shift): # TO DO LATER\n",
    "    vel_mat = np.zeros((1, len(x)))\n",
    "    vel_mat += v\n",
    "    return np.roll(vel_mat, int(shift))\n",
    "\n",
    "# finite difference differentiator \n",
    "def shifted_diff(timestep, shift):\n",
    "    if shift.is_integer():\n",
    "        diff_mat = (np.roll(grid[timestep, :], int(shift - 1)) - np.roll(grid[timestep, :], int(shift + 1)))/2\n",
    "    else:\n",
    "        diff_mat = (np.roll(grid[timestep, :], int(shift - 0.5)) - np.roll(grid[timestep, :], int(shift + 0.5)))\n",
    "    return diff_mat\n",
    "\n",
    "# Fourier space differentiator\n",
    "def shifted_diff_fourier(timestep, shift):\n",
    "    # Fourier transform of the grid at the given timestep\n",
    "    grid_fft = np.fft.fft(grid[timestep, :])\n",
    "    \n",
    "    # Generate a frequency array\n",
    "    N = len(grid[timestep, :])\n",
    "    k = np.fft.fftfreq(N, d=1)  # Assuming unit spacing\n",
    "    \n",
    "    # Apply the derivative in Fourier space (i*k shifts the phase)\n",
    "    derivative_fft = 1j * k * grid_fft\n",
    "    \n",
    "    # Inverse Fourier transform to get back to spatial domain\n",
    "    diff_mat = np.fft.ifft(derivative_fft).real\n",
    "    \n",
    "    # Shift the result as needed\n",
    "    diff_mat = np.roll(diff_mat, int(shift))\n",
    "    \n",
    "    return diff_mat\n",
    "\n",
    "# starting point\n",
    "def starting_point(velocity):\n",
    "    return int(round(2*velocity))\n",
    "\n",
    "# Noninterpolating Semi-Lagrangian, gives us the value of x at the starting point for the next timestep\n",
    "def semi_lagrange_noninterp(timestep, grid_array, p):\n",
    "    shifted_t_1_array = np.roll(grid_array[timestep - 1, :], p)\n",
    "    grid_array[timestep + 1, :] = shifted_t_1_array + (p/2 - velocity_interp(timestep, p/2))*shifted_diff_fourier(timestep, p/2)"
   ]
  }
 ],
 "metadata": {
  "kernelspec": {
   "display_name": "Python 3",
   "language": "python",
   "name": "python3"
  },
  "language_info": {
   "codemirror_mode": {
    "name": "ipython",
    "version": 3
   },
   "file_extension": ".py",
   "mimetype": "text/x-python",
   "name": "python",
   "nbconvert_exporter": "python",
   "pygments_lexer": "ipython3",
   "version": "3.11.3"
  }
 },
 "nbformat": 4,
 "nbformat_minor": 2
}
