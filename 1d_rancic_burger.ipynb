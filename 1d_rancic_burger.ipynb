{
 "cells": [
  {
   "cell_type": "code",
   "execution_count": 1,
   "metadata": {},
   "outputs": [],
   "source": [
    "import numpy as np\n",
    "import matplotlib.pyplot as plt\n",
    "import math"
   ]
  },
  {
   "cell_type": "markdown",
   "metadata": {},
   "source": [
    "# We will be solving the burger's equation using the Rancic method. "
   ]
  },
  {
   "cell_type": "code",
   "execution_count": 46,
   "metadata": {},
   "outputs": [],
   "source": [
    "# Parameters\n",
    "T = 100\n",
    "dt = 1"
   ]
  },
  {
   "cell_type": "code",
   "execution_count": 60,
   "metadata": {},
   "outputs": [],
   "source": [
    "x_coordinates = np.array([x for x in range(-50, 51)])\n",
    "initial_distribution = 0.5*np.sin(np.pi*x_coordinates/50)\n",
    "\n",
    "grid = np.zeros((T, len(x_coordinates)))\n",
    "grid[0, :] = initial_distribution"
   ]
  },
  {
   "cell_type": "code",
   "execution_count": 54,
   "metadata": {},
   "outputs": [],
   "source": [
    "# finite difference differentiator \n",
    "def finite_diff(row):\n",
    "    diff_mat = (np.roll(row, -1) - np.roll(row, 1))/2\n",
    "    return diff_mat\n",
    "\n",
    "def two_step_vel(neg_1_row, neg_2_row):\n",
    "    vel_row = (3/2)*neg_1_row - (1/2)*neg_2_row\n",
    "    return vel_row\n",
    "\n",
    "def three_step_vel(neg_1_row, neg_2_row, neg_3_row):\n",
    "    vel_row = (15/8)*neg_1_row - (10/8)*neg_2_row + (3/8)*neg_3_row\n",
    "    return vel_row\n",
    "\n",
    "def alpha_iter(n_step_vel, tolerance = 10**(-6), max_iter = 10000):\n",
    "    alpha = np.zeros(len(n_step_vel))\n",
    "    alpha_0 = 0\n",
    "    for x in range(len(n_step_vel)):\n",
    "        alpha_prev = alpha_0\n",
    "        for i in range(max_iter):\n",
    "            alpha_new = (1 + np.floor(x - alpha_prev) - (x - alpha_prev))*n_step_vel[np.floor(x - alpha_prev).astype(int)%len(n_step_vel)] + ((x - alpha_prev) - np.floor(x - alpha_prev))*n_step_vel[np.ceil(x - alpha_prev).astype(int)%len(n_step_vel)]\n",
    "            if np.abs(alpha_new - alpha_prev) < tolerance:\n",
    "                alpha[x] = alpha_new\n",
    "                break\n",
    "            alpha_prev = alpha_new\n",
    "    return alpha\n",
    "\n"
   ]
  },
  {
   "cell_type": "code",
   "execution_count": 23,
   "metadata": {},
   "outputs": [
    {
     "name": "stdout",
     "output_type": "stream",
     "text": [
      "[1. 1. 1. 1. 1. 1. 1. 1. 1. 1. 1. 1. 1. 1. 1. 1. 1. 1. 1. 1. 1. 1. 1. 1.\n",
      " 1. 1. 1. 1. 1. 1. 1. 1. 1. 1. 1. 1. 1. 1. 1. 1. 1. 1. 1. 1. 1. 1. 1. 1.\n",
      " 1. 1. 1. 1. 1. 1. 1. 1. 1. 1. 1. 1. 1. 1. 1. 1. 1. 1. 1. 1. 1. 1. 1. 1.\n",
      " 1. 1. 1. 1. 1. 1. 1. 1. 1. 1. 1. 1. 1. 1. 1. 1. 1. 1. 1. 1. 1. 1. 1. 1.\n",
      " 1. 1. 1. 1. 1.]\n"
     ]
    }
   ],
   "source": [
    "alpha = alpha_iter(np.ones(len(x_coordinates)))\n",
    "print(alpha)"
   ]
  },
  {
   "cell_type": "code",
   "execution_count": 61,
   "metadata": {},
   "outputs": [
    {
     "name": "stderr",
     "output_type": "stream",
     "text": [
      "/var/folders/6q/_skb6gvs4b51jr_z4v90tvt40000gn/T/ipykernel_43029/1618677872.py:7: RuntimeWarning: invalid value encountered in divide\n",
      "  t_eulerian_timestep = np.where(alpha != 0, dt*(1 - p/alpha), 0)\n",
      "/var/folders/6q/_skb6gvs4b51jr_z4v90tvt40000gn/T/ipykernel_43029/1618677872.py:13: RuntimeWarning: invalid value encountered in divide\n",
      "  t_eulerian_timestep = np.where(alpha != 0, dt*(1 - p/alpha), 0)\n",
      "/var/folders/6q/_skb6gvs4b51jr_z4v90tvt40000gn/T/ipykernel_43029/1618677872.py:19: RuntimeWarning: invalid value encountered in divide\n",
      "  t_eulerian_timestep = np.where(alpha != 0, dt*(1 - p/alpha), 0)\n"
     ]
    }
   ],
   "source": [
    "for t in range(1, T):\n",
    "    if t == 1:\n",
    "        alpha = alpha_iter(grid[t-1, :])\n",
    "#        alpha = alpha_iter(1.23*np.ones(len(x_coordinates)))\n",
    "\n",
    "        p = np.round(alpha).astype(int)\n",
    "        t_eulerian_timestep = np.where(alpha != 0, dt*(1 - p/alpha), 0)\n",
    "    elif t == 2:\n",
    "        alpha = alpha_iter(two_step_vel(grid[t-1, :], grid[t-2, :]))\n",
    "#        alpha = alpha_iter(two_step_vel(1.23*np.ones(len(x_coordinates)), 1.23*np.ones(len(x_coordinates))))\n",
    "\n",
    "        p = np.round(alpha).astype(int)\n",
    "        t_eulerian_timestep = np.where(alpha != 0, dt*(1 - p/alpha), 0)\n",
    "    else:\n",
    "        alpha = alpha_iter(three_step_vel(grid[t-1, :], grid[t-2, :], grid[t-3, :]))\n",
    "#        alpha = alpha_iter(three_step_vel(1.23*np.ones(len(x_coordinates)), 1.23*np.ones(len(x_coordinates)), 1.23*np.ones(len(x_coordinates))))\n",
    "\n",
    "        p = np.round(alpha).astype(int)\n",
    "        t_eulerian_timestep = np.where(alpha != 0, dt*(1 - p/alpha), 0)\n",
    "\n",
    "    diff_grid = finite_diff(grid[t-1, :])\n",
    "    double_diff_grid = finite_diff(diff_grid)\n",
    "    for x in range(len(x_coordinates)):\n",
    "        grid[t, x] = grid[t-1, (x - p[x])%len(x_coordinates)] - t_eulerian_timestep[(x - p[x])%len(x_coordinates)]*diff_grid[(x - p[x])%len(x_coordinates)] + 0.5*t_eulerian_timestep[(x - p[x])%len(x_coordinates)]**2*double_diff_grid[(x - p[x])%len(x_coordinates)]"
   ]
  },
  {
   "cell_type": "code",
   "execution_count": 59,
   "metadata": {},
   "outputs": [],
   "source": [
    "from video_creator_1d import create_video\n",
    "create_video(grid, \"check.mp4\")"
   ]
  }
 ],
 "metadata": {
  "kernelspec": {
   "display_name": "Python 3",
   "language": "python",
   "name": "python3"
  },
  "language_info": {
   "codemirror_mode": {
    "name": "ipython",
    "version": 3
   },
   "file_extension": ".py",
   "mimetype": "text/x-python",
   "name": "python",
   "nbconvert_exporter": "python",
   "pygments_lexer": "ipython3",
   "version": "3.11.3"
  }
 },
 "nbformat": 4,
 "nbformat_minor": 2
}
