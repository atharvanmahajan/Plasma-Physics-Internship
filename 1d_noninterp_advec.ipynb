{
 "cells": [
  {
   "cell_type": "code",
   "execution_count": 1,
   "metadata": {},
   "outputs": [],
   "source": [
    "import numpy as np\n",
    "import matplotlib.pyplot as plt\n",
    "import math"
   ]
  },
  {
   "cell_type": "markdown",
   "metadata": {},
   "source": [
    "We will be solving the 1D advection equation using non-interpolating semi-lagrange techniques with a Square initial distribution.\n",
    "\n"
   ]
  },
  {
   "cell_type": "code",
   "execution_count": 2,
   "metadata": {},
   "outputs": [],
   "source": [
    "# Parameters\n",
    "dt = 1\n",
    "v = 1.23 # advection speed"
   ]
  },
  {
   "cell_type": "code",
   "execution_count": 3,
   "metadata": {},
   "outputs": [],
   "source": [
    "x_coordinates = np.array([x for x in range(-50, 51)])\n",
    "initial_distribution = np.exp(-((x_coordinates)/10)**2)\n",
    "first_step_distribution = np.exp(-((x_coordinates - (v*dt))/10)**2)\n",
    "\n",
    "# plt.plot(x_coordinates, initial_distribution)\n",
    "# plt.show()"
   ]
  },
  {
   "cell_type": "code",
   "execution_count": 4,
   "metadata": {},
   "outputs": [],
   "source": [
    "grid = np.zeros((10000, len(x_coordinates))) # rows are time steps, columns are x coordinates\n",
    "grid[0, :] = initial_distribution\n",
    "grid[1, :] = first_step_distribution"
   ]
  },
  {
   "cell_type": "code",
   "execution_count": 5,
   "metadata": {},
   "outputs": [],
   "source": [
    "# velocity interpolator\n",
    "def velocity_interp(timestep, shift): # TO DO LATER\n",
    "    vel_mat = np.zeros((1, len(x_coordinates)))\n",
    "    vel_mat += v\n",
    "    return np.roll(vel_mat, int(shift))\n",
    "\n",
    "# finite difference differentiator \n",
    "def shifted_diff(timestep, shift):\n",
    "    if shift.is_integer():\n",
    "        diff_mat = (np.roll(grid[timestep, :], int(shift - 1)) - np.roll(grid[timestep, :], int(shift + 1)))/2\n",
    "    else:\n",
    "        diff_mat = (np.roll(grid[timestep, :], int(shift - 0.5)) - np.roll(grid[timestep, :], int(shift + 0.5)))\n",
    "    return diff_mat\n",
    "\n",
    "# Fourier space differentiator\n",
    "def shifted_diff_fourier(timestep, shift):\n",
    "    # Fourier transform of the grid at the given timestep\n",
    "    grid_fft = np.fft.fft(grid[timestep, :])\n",
    "    \n",
    "    # Generate a frequency array\n",
    "    N = len(grid[timestep, :])\n",
    "    k = np.fft.fftfreq(N, d=1)  # Assuming unit spacing\n",
    "    \n",
    "    # Apply the derivative in Fourier space (i*k shifts the phase)\n",
    "    derivative_fft = 1j * k * grid_fft\n",
    "    \n",
    "    # Inverse Fourier transform to get back to spatial domain\n",
    "    diff_mat = np.fft.ifft(derivative_fft).real\n",
    "    \n",
    "    # Shift the result as needed\n",
    "    diff_mat = np.roll(diff_mat, int(shift))\n",
    "    \n",
    "    return diff_mat\n",
    "\n",
    "# starting point\n",
    "def starting_point(velocity):\n",
    "    return int(round(2*velocity))\n",
    "\n",
    "# Noninterpolating Semi-Lagrangian, gives us the value of x at the starting point for the next timestep\n",
    "def semi_lagrange_noninterp(timestep, grid_array, p):\n",
    "    shifted_t_1_array = np.roll(grid_array[timestep - 1, :], p)\n",
    "    grid_array[timestep + 1, :] = shifted_t_1_array + (p/2 - velocity_interp(timestep, p/2))*shifted_diff_fourier(timestep, p/2)\n"
   ]
  },
  {
   "cell_type": "code",
   "execution_count": 6,
   "metadata": {},
   "outputs": [],
   "source": [
    "p = starting_point(v)\n",
    "for t in range(1, len(grid) - 1):\n",
    "    semi_lagrange_noninterp(t, grid, p)\n",
    "# plt.imshow(grid, aspect='auto', cmap='viridis')\n",
    "# plt.show()"
   ]
  },
  {
   "cell_type": "code",
   "execution_count": 39,
   "metadata": {},
   "outputs": [],
   "source": [
    "from video_creator import create_video\n",
    "create_video(grid, '1D_gaussian_constvel_advection_noninterp_SL.mp4')"
   ]
  }
 ],
 "metadata": {
  "kernelspec": {
   "display_name": "Python 3",
   "language": "python",
   "name": "python3"
  },
  "language_info": {
   "codemirror_mode": {
    "name": "ipython",
    "version": 3
   },
   "file_extension": ".py",
   "mimetype": "text/x-python",
   "name": "python",
   "nbconvert_exporter": "python",
   "pygments_lexer": "ipython3",
   "version": "3.11.3"
  }
 },
 "nbformat": 4,
 "nbformat_minor": 2
}
